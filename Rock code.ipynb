{
 "cells": [
  {
   "cell_type": "code",
   "execution_count": 3,
   "metadata": {},
   "outputs": [
    {
     "name": "stdout",
     "output_type": "stream",
     "text": [
      "You choose \n",
      "     _______\n",
      "---'    ____)____\n",
      "           ______)\n",
      "          _______)\n",
      "         _______)\n",
      "---.__________)\n",
      "\n",
      "The computer choose \n",
      "    _______\n",
      "---'   ____)\n",
      "      (_____)\n",
      "      (_____)\n",
      "      (____)\n",
      "---.__(___)\n",
      "\n",
      "You win\n"
     ]
    }
   ],
   "source": [
    "#Rock Paper Scicorrs \n",
    "import random \n",
    "rock =(\"\"\"\n",
    "    _______\n",
    "---'   ____)\n",
    "      (_____)\n",
    "      (_____)\n",
    "      (____)\n",
    "---.__(___)\n",
    "\"\"\")\n",
    "\n",
    "# Paper\n",
    "paper = (\"\"\"\n",
    "     _______\n",
    "---'    ____)____\n",
    "           ______)\n",
    "          _______)\n",
    "         _______)\n",
    "---.__________)\n",
    "\"\"\")\n",
    "\n",
    "# Scissors\n",
    "scissors = (\"\"\"\n",
    "    _______\n",
    "---'   ____)____\n",
    "          ______)\n",
    "       __________)\n",
    "      (____)\n",
    "---.__(___)\n",
    "\"\"\")\n",
    "game = [rock, paper , scissors ]\n",
    "player = input(\"What do you choose? Type 0 for Rock, 1 for paper and 2 for scissors\")\n",
    "player1 = int(player)\n",
    "player2 = random.randint(0,2)\n",
    "print(\"You choose\", game[player1])\n",
    "print(\"The computer choose\", game[player2])\n",
    "if player1 == 0 and player2 == 2:\n",
    "    print(\"You win!\")\n",
    "elif player1 == 1 and player2 == 0:\n",
    "    print(\"You win\")\n",
    "elif player1 == 2 and player2 == 1:\n",
    "    print(\"You win!\")\n",
    "elif player2 > player1:\n",
    "    print(\"player 2 wins!\")\n",
    "elif player2 == 0 and player1 == 2:\n",
    "    print(\"player 2 wins!\")\n",
    "else:\n",
    "    print(\"Game is a draw\")\n",
    "    \n",
    "\n"
   ]
  },
  {
   "cell_type": "code",
   "execution_count": null,
   "metadata": {},
   "outputs": [],
   "source": []
  }
 ],
 "metadata": {
  "interpreter": {
   "hash": "1819d2b1872bb89daf36b429382bc186d3b42382d9e6d88b1d18def11bc4b7ec"
  },
  "kernelspec": {
   "display_name": "Python 3.9.4 64-bit",
   "language": "python",
   "name": "python3"
  },
  "language_info": {
   "codemirror_mode": {
    "name": "ipython",
    "version": 3
   },
   "file_extension": ".py",
   "mimetype": "text/x-python",
   "name": "python",
   "nbconvert_exporter": "python",
   "pygments_lexer": "ipython3",
   "version": "3.9.4"
  },
  "orig_nbformat": 4
 },
 "nbformat": 4,
 "nbformat_minor": 2
}
